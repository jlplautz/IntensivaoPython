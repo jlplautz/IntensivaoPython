{
  "nbformat": 4,
  "nbformat_minor": 0,
  "metadata": {
    "colab": {
      "name": "Aula1.ipynb",
      "provenance": [],
      "collapsed_sections": [],
      "mount_file_id": "https://github.com/jlplautz/IntensivaoPython/blob/master/Aula1.ipynb",
      "authorship_tag": "ABX9TyOkhYAspPBNBCt0N0qjHJpJ",
      "include_colab_link": true
    },
    "kernelspec": {
      "name": "python3",
      "display_name": "Python 3"
    }
  },
  "cells": [
    {
      "cell_type": "markdown",
      "metadata": {
        "id": "view-in-github",
        "colab_type": "text"
      },
      "source": [
        "<a href=\"https://colab.research.google.com/github/jlplautz/IntensivaoPython/blob/master/Aula1.ipynb\" target=\"_parent\"><img src=\"https://colab.research.google.com/assets/colab-badge.svg\" alt=\"Open In Colab\"/></a>"
      ]
    },
    {
      "cell_type": "code",
      "metadata": {
        "id": "bxKwOSB2fyYQ"
      },
      "source": [
        "import pandas as pd\n",
        "df = pd.read_excel(r'/content/drive/MyDrive/Projetos Intensivao Python/Vendas.xlsx')\n",
        "display(df)"
      ],
      "execution_count": null,
      "outputs": []
    },
    {
      "cell_type": "markdown",
      "metadata": {
        "id": "64SpBisCk3SR"
      },
      "source": [
        "Passo 1 - Faturamento das Lojas"
      ]
    },
    {
      "cell_type": "code",
      "metadata": {
        "id": "WpQ_on3ljDSr"
      },
      "source": [
        "faturamento = df[['ID Loja', 'Valor Final']].groupby(\"ID Loja\").sum()\n",
        "faturamento = faturamento.sort_values(by='Valor Final', ascending=False)\n",
        "display(faturamento)"
      ],
      "execution_count": null,
      "outputs": []
    },
    {
      "cell_type": "markdown",
      "metadata": {
        "id": "qqNED-QFlgJK"
      },
      "source": [
        "Passo 2 - Calculando a qtdade vendida por loja\n"
      ]
    },
    {
      "cell_type": "code",
      "metadata": {
        "colab": {
          "base_uri": "https://localhost:8080/",
          "height": 865
        },
        "id": "EcxbPPIBmKMz",
        "outputId": "fdfd7482-b58f-4341-9176-853c5fea2355"
      },
      "source": [
        "quantidade = df[['ID Loja', 'Quantidade']].groupby('ID Loja').sum()\n",
        "quantidade - quantidade.sort_values(by='ID Loja', ascending=False)\n",
        "display(quantidade)"
      ],
      "execution_count": 11,
      "outputs": [
        {
          "output_type": "display_data",
          "data": {
            "text/html": [
              "<div>\n",
              "<style scoped>\n",
              "    .dataframe tbody tr th:only-of-type {\n",
              "        vertical-align: middle;\n",
              "    }\n",
              "\n",
              "    .dataframe tbody tr th {\n",
              "        vertical-align: top;\n",
              "    }\n",
              "\n",
              "    .dataframe thead th {\n",
              "        text-align: right;\n",
              "    }\n",
              "</style>\n",
              "<table border=\"1\" class=\"dataframe\">\n",
              "  <thead>\n",
              "    <tr style=\"text-align: right;\">\n",
              "      <th></th>\n",
              "      <th>Quantidade</th>\n",
              "    </tr>\n",
              "    <tr>\n",
              "      <th>ID Loja</th>\n",
              "      <th></th>\n",
              "    </tr>\n",
              "  </thead>\n",
              "  <tbody>\n",
              "    <tr>\n",
              "      <th>Bourbon Shopping SP</th>\n",
              "      <td>8863</td>\n",
              "    </tr>\n",
              "    <tr>\n",
              "      <th>Center Shopping Uberlândia</th>\n",
              "      <td>8627</td>\n",
              "    </tr>\n",
              "    <tr>\n",
              "      <th>Iguatemi Campinas</th>\n",
              "      <td>8935</td>\n",
              "    </tr>\n",
              "    <tr>\n",
              "      <th>Iguatemi Esplanada</th>\n",
              "      <td>8580</td>\n",
              "    </tr>\n",
              "    <tr>\n",
              "      <th>Norte Shopping</th>\n",
              "      <td>9014</td>\n",
              "    </tr>\n",
              "    <tr>\n",
              "      <th>Novo Shopping Ribeirão Preto</th>\n",
              "      <td>8751</td>\n",
              "    </tr>\n",
              "    <tr>\n",
              "      <th>Palladium Shopping Curitiba</th>\n",
              "      <td>9091</td>\n",
              "    </tr>\n",
              "    <tr>\n",
              "      <th>Parque Dom Pedro Shopping</th>\n",
              "      <td>8388</td>\n",
              "    </tr>\n",
              "    <tr>\n",
              "      <th>Passei das Águas Shopping</th>\n",
              "      <td>8618</td>\n",
              "    </tr>\n",
              "    <tr>\n",
              "      <th>Ribeirão Shopping</th>\n",
              "      <td>8825</td>\n",
              "    </tr>\n",
              "    <tr>\n",
              "      <th>Rio Mar Recife</th>\n",
              "      <td>8863</td>\n",
              "    </tr>\n",
              "    <tr>\n",
              "      <th>Rio Mar Shopping Fortaleza</th>\n",
              "      <td>8937</td>\n",
              "    </tr>\n",
              "    <tr>\n",
              "      <th>Salvador Shopping</th>\n",
              "      <td>8698</td>\n",
              "    </tr>\n",
              "    <tr>\n",
              "      <th>Shopping Barra</th>\n",
              "      <td>8638</td>\n",
              "    </tr>\n",
              "    <tr>\n",
              "      <th>Shopping Center Interlagos</th>\n",
              "      <td>8675</td>\n",
              "    </tr>\n",
              "    <tr>\n",
              "      <th>Shopping Center Leste Aricanduva</th>\n",
              "      <td>8938</td>\n",
              "    </tr>\n",
              "    <tr>\n",
              "      <th>Shopping Eldorado</th>\n",
              "      <td>8719</td>\n",
              "    </tr>\n",
              "    <tr>\n",
              "      <th>Shopping Ibirapuera</th>\n",
              "      <td>8723</td>\n",
              "    </tr>\n",
              "    <tr>\n",
              "      <th>Shopping Iguatemi Fortaleza</th>\n",
              "      <td>8629</td>\n",
              "    </tr>\n",
              "    <tr>\n",
              "      <th>Shopping Midway Mall</th>\n",
              "      <td>8206</td>\n",
              "    </tr>\n",
              "    <tr>\n",
              "      <th>Shopping Morumbi</th>\n",
              "      <td>8508</td>\n",
              "    </tr>\n",
              "    <tr>\n",
              "      <th>Shopping Recife</th>\n",
              "      <td>8581</td>\n",
              "    </tr>\n",
              "    <tr>\n",
              "      <th>Shopping SP Market</th>\n",
              "      <td>8927</td>\n",
              "    </tr>\n",
              "    <tr>\n",
              "      <th>Shopping União de Osasco</th>\n",
              "      <td>8730</td>\n",
              "    </tr>\n",
              "    <tr>\n",
              "      <th>Shopping Vila Velha</th>\n",
              "      <td>9224</td>\n",
              "    </tr>\n",
              "  </tbody>\n",
              "</table>\n",
              "</div>"
            ],
            "text/plain": [
              "                                  Quantidade\n",
              "ID Loja                                     \n",
              "Bourbon Shopping SP                     8863\n",
              "Center Shopping Uberlândia              8627\n",
              "Iguatemi Campinas                       8935\n",
              "Iguatemi Esplanada                      8580\n",
              "Norte Shopping                          9014\n",
              "Novo Shopping Ribeirão Preto            8751\n",
              "Palladium Shopping Curitiba             9091\n",
              "Parque Dom Pedro Shopping               8388\n",
              "Passei das Águas Shopping               8618\n",
              "Ribeirão Shopping                       8825\n",
              "Rio Mar Recife                          8863\n",
              "Rio Mar Shopping Fortaleza              8937\n",
              "Salvador Shopping                       8698\n",
              "Shopping Barra                          8638\n",
              "Shopping Center Interlagos              8675\n",
              "Shopping Center Leste Aricanduva        8938\n",
              "Shopping Eldorado                       8719\n",
              "Shopping Ibirapuera                     8723\n",
              "Shopping Iguatemi Fortaleza             8629\n",
              "Shopping Midway Mall                    8206\n",
              "Shopping Morumbi                        8508\n",
              "Shopping Recife                         8581\n",
              "Shopping SP Market                      8927\n",
              "Shopping União de Osasco                8730\n",
              "Shopping Vila Velha                     9224"
            ]
          },
          "metadata": {
            "tags": []
          }
        }
      ]
    },
    {
      "cell_type": "markdown",
      "metadata": {
        "id": "PthPTFEynJqV"
      },
      "source": [
        "passo 3 - Calculando o ticket Medio dos Produtos por Loja"
      ]
    },
    {
      "cell_type": "code",
      "metadata": {
        "id": "aYh2fFtHnWrV"
      },
      "source": [
        "ticket_medio = (faturamento['Valor Final'] / quantidade['Quantidade']).to_frame()\n",
        "ticket_medio = ticket_medio.rename(columns={0: 'Ticket Medio'})\n",
        "display(ticket_medio)"
      ],
      "execution_count": null,
      "outputs": []
    },
    {
      "cell_type": "markdown",
      "metadata": {
        "id": "K3SfTiz0oS4w"
      },
      "source": [
        "Passo 4 - Criando a função de enviar email\n",
        "\n",
        "Vamos revisar o que fizemos até agora e que informações temos\n",
        "disponíveis.\n",
        "1. Obtemos os dados da base Vendas.xlsx;\n",
        "2. Organizamos os dados usando o PANDAS;\n",
        "3. Extraímos da base de dados original df, 3 tabelas específicas:\n",
        "   *   Faturamento por loja;\n",
        "   *   Quantidade vendida por loja;\n",
        "   *  Ticket médio por loja.\n",
        "\n",
        "4. Ordenamos todos os dados, do maior para o menor, para facilitar \n",
        "  Agora que temos os dados, vamos para parte do relatório. Nosso\n",
        "  objetivo é que cada um dos gerentes de loja receba, no e-mail, um\n",
        "  relatório com as informações mais importantes da sua loja.\n",
        "\n",
        "Para isso, vamos precisar criar uma função que:\n",
        "1. Colete as informações que geramos;\n",
        "2. Crie o e-mail com os dados da loja;\n",
        "3. Envie o e-mail para o gerente daquela loja específica;\n",
        "4. Enviar e-mail para Diretoria.\n"
      ]
    },
    {
      "cell_type": "code",
      "metadata": {
        "id": "ien_4LpcpAvJ"
      },
      "source": [
        "# função enviar_email\n",
        "import smtplib\n",
        "import email.message\n",
        "\n",
        "def enviar_email(resumo_loja, loja):\n",
        "\n",
        "  server = smtplib.SMTP('smtp.gmail.com:587')  \n",
        "  corpo_email = f\"\"\"\n",
        "  <p> Jorge Plautz,</p>\n",
        "  {resumo_loja.to_html()}\n",
        "  <p>Qualquer duvida estamos a disposição</p>\n",
        "  \"\"\"\n",
        "  \n",
        "  msg = email.message.Message()\n",
        "  msg['Subject'] = f'Jorge Plautz - Loja: {loja}'\n",
        "\n",
        "  msg['From'] = 'jorge.plautz@gmail.com'\n",
        "  msg['To'] = 'jorge.plautz@gmail.com'\n",
        "  password = \"Jlg2r7.1\"\n",
        "  msg.add_header('Content-Type', 'text/html')\n",
        "  msg.set_payload(corpo_email)\n",
        "    \n",
        "  s = smtplib.SMTP('smtp.gmail.com: 587')\n",
        "  s.starttls()\n",
        "  # Login Credentials for sending the mail\n",
        "  s.login(msg['From'], password)\n",
        "  s.sendmail(msg['From'], [msg['To']], msg.as_string().encode('utf-8'))\n",
        "  print('Email enviado')"
      ],
      "execution_count": 18,
      "outputs": []
    },
    {
      "cell_type": "markdown",
      "metadata": {
        "id": "yekETA2XyULq"
      },
      "source": [
        "Passo 5 - Criando relátorio por loja\n",
        "\n",
        "Primeiramente, vamos criar nossa variável loja que será necessária na nossa função enviar_email.\n",
        "\n",
        "Para isso, vamos usar a coluna ‘ID loja’ do nosso dataframe df.\n",
        "\n",
        "Como podemos ver, essa coluna possui valores repetidos, portanto, vamos usar um método que nos permite ter uma lista de\n",
        "valores únicos. Esse método é o^:\n",
        ".unique().\n",
        "\n",
        "Como temos 25 lojas distintas, escrever um código específico para cada uma delas não parece ser a forma mais prática e eficiente de\n",
        "se agir.\n",
        "\n",
        "Imagine que ao invés de 25 fossem 500? Não parece prático né?\n",
        "\n",
        "Para isso, temos estruturas de repetição no Python. A mais comum delas é o FOR. Ela nos permite percorrer todas as nossas 25 lojas e\n",
        "criar um relatório de forma automática.\n",
        "\n",
        "Aqui usaremos a indentação novamente. Logo, todas as linhas que estão indentadas pertencem ao bloco for.\n",
        "\n",
        "A estrutura loja in lojas, significa que uma loja por vez da lista lojas irá passar pelas 3 linhas pertencentes ao for.\n",
        "\n",
        "Abaixo do código, fazemos duas iterações teóricas para que fique mais claro\n"
      ]
    },
    {
      "cell_type": "markdown",
      "metadata": {
        "id": "MEx4P7rrOn8M"
      },
      "source": [
        "Enviando o e-mail por loja\n",
        "\n",
        "Podemos aproveitar as iterações para já enviarmos o e-mail da loja .\n",
        "Para isso, vamos usar nossa função enviar_email!\n",
        "\n",
        "Vamos lembrar quais são seus argumentos:\n",
        "Enviar_email(resumo_loja , loja)\n",
        "Podemos perceber que resumo_loja é calculado dentro do FOR.\n",
        "\n",
        "Já loja, como vimos no slide anterior, irá variar até que o Python passe por todas as lojas.\n"
      ]
    },
    {
      "cell_type": "code",
      "metadata": {
        "id": "MpRFi-vhy0ou"
      },
      "source": [
        "lojas = df['ID Loja'].unique()\n",
        "\n",
        "for loja in lojas:\n",
        "  tabela_loja = df.loc[df['ID Loja'] == loja, ['ID Loja', 'Quantidade', 'Valor Final']]\n",
        "  resumo_loja = tabela_loja.groupby('ID Loja').sum()\n",
        "  resumo_loja['Ticket_Medio'] = resumo_loja['Valor Final'] / resumo_loja['Quantidade']\n",
        "  enviar_email(resumo_loja, loja)"
      ],
      "execution_count": null,
      "outputs": []
    },
    {
      "cell_type": "markdown",
      "metadata": {
        "id": "9q04FjJQ1kjf"
      },
      "source": [
        "Passo 6 - Enviando email para a direoria\n",
        "\n",
        "Para a diretoria iremos seguir o mesmo conceito, mas por se tratar de um nível hierárquico maior, vamos agrupar toda a informação em uma única tabela para que seja possível uma visão macro de como vão\n",
        "os resultados da empresa.\n",
        "\n",
        "Para isso, usaremos nossas variáveis iniciais:\n",
        "*   faturamento;\n",
        "*   quantidade;\n",
        "*   ticket_médio;\n",
        " \n",
        "Para unirmos as três informações usaremos o método .join() conforme apresentado ao lado."
      ]
    },
    {
      "cell_type": "code",
      "metadata": {
        "colab": {
          "base_uri": "https://localhost:8080/"
        },
        "id": "6AlADC972AIK",
        "outputId": "73bfe03e-f5da-4a8c-db2a-d0d2ffe9eb86"
      },
      "source": [
        "# email para diretoria\n",
        "\n",
        "tabela_diretoria = faturamento.join(quantidade).join(ticket_medio)\n",
        "enviar_email(tabela_diretoria, 'Todas as Lojas')\n"
      ],
      "execution_count": 19,
      "outputs": [
        {
          "output_type": "stream",
          "text": [
            "Email enviado\n"
          ],
          "name": "stdout"
        }
      ]
    }
  ]
}